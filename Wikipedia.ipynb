{
 "cells": [
  {
   "cell_type": "markdown",
   "metadata": {
    "id": "Tirw9HnrTuau"
   },
   "source": [
    "# 1.0 Case Study: constructing a network of wikipedia pages"
   ]
  },
  {
   "cell_type": "markdown",
   "metadata": {
    "id": "ryNuGuF5aK6t"
   },
   "source": [
    "## 1.1 Introduction"
   ]
  },
  {
   "cell_type": "markdown",
   "metadata": {
    "id": "K4U4cYABYxsK"
   },
   "source": [
    "So far we have learned two ways of constructing a complex network:\n",
    "- from a CSV file\n",
    "- manually\n",
    "\n",
    "What is hard for small networks may be impossible for medium-to-large scale networks; it may be impossible even for small networks if you must repeat the analysis many\n",
    "times. The case study in this lesson shows you **how to construct a large\n",
    "network in an easy way**:\n",
    "- automatically collecting node and edge data from the Internet.\n",
    "\n",
    "The other goal of this study (aside from mastering new network construction\n",
    "techniques) is quite pragmatic.\n",
    "- Wouldn’t you want to know where the **complex\n",
    "network analysis** fits in the context of other subjects and disciplines?\n",
    "\n",
    "An answer to this question is near at hand: [on Wikipedia](https://en.wikipedia.org/wiki/Complex_network).\n",
    "\n",
    "\n",
    "Let’s start with the Wikipedia page about complex networks—the seed page.\n",
    "(Unfortunately, there is no page on complex network analysis itself.) The page\n",
    "body has external links and links to other Wikipedia pages. Those other pages\n",
    "presumably are somewhat related to complex networks, or else why would\n",
    "the Wikipedia editors provide them?\n",
    "To build a network out of the seed page and other relevant pages, **let’s treat\n",
    "the pages (and the respective Wikipedia subjects) as the network nodes and\n",
    "the links between the pages as the network edges**. You will use snowball\n",
    "sampling (a breadth-first search or [BFS algorithm](https://en.wikipedia.org/wiki/Breadth-first_search)) to discover all the nodes and edges of interest.\n",
    "\n",
    "<img width=\"200\" src=\"https://drive.google.com/uc?export=view&id=1iC-cieOaZKy80adviVISLmM-2Zm7NL-i\">\n",
    "\n",
    "As a result, you will have a network of all pages related to complex networks\n",
    "and hopefully, you will make some conclusions about it."
   ]
  },
  {
   "cell_type": "markdown",
   "metadata": {
    "id": "JnNVv00Aalcx"
   },
   "source": [
    "## 1.2 Get the Data, Build the Network"
   ]
  },
  {
   "cell_type": "markdown",
   "metadata": {
    "id": "5DofZOgJa9Nf"
   },
   "source": [
    "The first half of the project script consists of:\n",
    "\n",
    "1. the initialization prologue\n",
    "2. a heavy-duty loop that retrieves the Wikipedia pages and simultaneously builds the network of nodes and edges.\n",
    "\n",
    "Let’s first import all necessary modules. We will need:\n",
    "\n",
    "- the module **wikipedia** for fetching and exploring Wikipedia pages\n",
    "- the operator **itemgetter** for sorting a list of tuples\n",
    "- and, naturally, **networkx** itself.\n",
    "\n",
    "To target the **snowballing process**, define the constant **SEED, the name of the\n",
    "starting page**.\n",
    "\n",
    "> As a side note, by changing the name of the seed page, you can\n",
    "apply this analysis to any other subject on Wikipedia.\n",
    "\n",
    "\n",
    "Last but not least, when you start the snowballing, you will eventually (and\n",
    "quite soon) bump into the pages describing ISBN and ISSN numbers, the\n",
    "arXiv, PubMed, and the like. Almost all other Wikipedia pages refer to one or\n",
    "more of those pages. This hyper-connectedness transforms any network into\n",
    "a collection of almost perfect gigantic stars, making all Wikipedia-based networks\n",
    "look similar. **To avoid the stardom syndrome**, treat the known “star”\n",
    "pages as stop words in information retrieval—in other words, ignore any links\n",
    "to them.\n",
    "\n",
    "Constructing the **black list of stop words**, STOPS, is a matter of trial\n",
    "and error. We put thirteen subjects on it; you may want to add more when you\n",
    "come across other “stars.” We also excluded pages whose names begin with\n",
    "**\"List of\"**, because they are simply lists of other subjects."
   ]
  },
  {
   "cell_type": "code",
   "execution_count": 4,
   "metadata": {
    "id": "sQcOSXayXX1W"
   },
   "outputs": [
    {
     "name": "stdout",
     "output_type": "stream",
     "text": [
      "Requirement already satisfied: wikipedia in /home/andremeneses/Documents/envs/data/lib/python3.10/site-packages (1.4.0)\n",
      "Requirement already satisfied: beautifulsoup4 in /home/andremeneses/Documents/envs/data/lib/python3.10/site-packages (from wikipedia) (4.11.2)\n",
      "Requirement already satisfied: requests<3.0.0,>=2.0.0 in /home/andremeneses/Documents/envs/data/lib/python3.10/site-packages (from wikipedia) (2.28.2)\n",
      "Requirement already satisfied: charset-normalizer<4,>=2 in /home/andremeneses/Documents/envs/data/lib/python3.10/site-packages (from requests<3.0.0,>=2.0.0->wikipedia) (3.1.0)\n",
      "Requirement already satisfied: urllib3<1.27,>=1.21.1 in /home/andremeneses/Documents/envs/data/lib/python3.10/site-packages (from requests<3.0.0,>=2.0.0->wikipedia) (1.26.15)\n",
      "Requirement already satisfied: idna<4,>=2.5 in /home/andremeneses/Documents/envs/data/lib/python3.10/site-packages (from requests<3.0.0,>=2.0.0->wikipedia) (3.4)\n",
      "Requirement already satisfied: certifi>=2017.4.17 in /home/andremeneses/Documents/envs/data/lib/python3.10/site-packages (from requests<3.0.0,>=2.0.0->wikipedia) (2022.12.7)\n",
      "Requirement already satisfied: soupsieve>1.2 in /home/andremeneses/Documents/envs/data/lib/python3.10/site-packages (from beautifulsoup4->wikipedia) (2.4)\n",
      "Collecting networkx\n",
      "  Using cached networkx-3.1-py3-none-any.whl (2.1 MB)\n",
      "Installing collected packages: networkx\n",
      "Successfully installed networkx-3.1\n"
     ]
    }
   ],
   "source": [
    "!pip install wikipedia\n",
    "!pip install networkx"
   ]
  },
  {
   "cell_type": "code",
   "execution_count": 2,
   "metadata": {
    "id": "MINWDN4gTzAC"
   },
   "outputs": [],
   "source": [
    "from operator import itemgetter\n",
    "import networkx as nx\n",
    "import wikipedia\n",
    "import matplotlib.pyplot as plt"
   ]
  },
  {
   "cell_type": "code",
   "execution_count": 3,
   "metadata": {
    "id": "lVqdt1994G2J"
   },
   "outputs": [
    {
     "data": {
      "text/plain": [
       "'3.1'"
      ]
     },
     "execution_count": 3,
     "metadata": {},
     "output_type": "execute_result"
    }
   ],
   "source": [
    "nx.__version__"
   ]
  },
  {
   "cell_type": "code",
   "execution_count": 4,
   "metadata": {
    "id": "YPTw8l5iT7z9"
   },
   "outputs": [],
   "source": [
    "#https://en.wikipedia.org/wiki/Complex_network\n",
    "SEED = \"Gödel's incompleteness theorems\".title()\n",
    "STOPS = (\"International Standard Serial Number\",\n",
    "         \"International Standard Book Number\",\n",
    "         \"National Diet Library\",\n",
    "         \"International Standard Name Identifier\",\n",
    "         \"International Standard Book Number (Identifier)\",\n",
    "         \"Pubmed Identifier\",\n",
    "         \"Pubmed Central\",\n",
    "         \"Digital Object Identifier\",\n",
    "         \"Arxiv\",\n",
    "         \"Proc Natl Acad Sci Usa\",\n",
    "         \"Bibcode\",\n",
    "         \"Library Of Congress Control Number\",\n",
    "         \"Jstor\",\n",
    "         \"Doi (Identifier)\",\n",
    "         \"Isbn (Identifier)\",\n",
    "         \"Pmid (Identifier)\",\n",
    "         \"Arxiv (Identifier)\",\n",
    "         \"Bibcode (Identifier)\")"
   ]
  },
  {
   "cell_type": "markdown",
   "metadata": {
    "id": "ChlfDfm7YQNY"
   },
   "source": [
    "The next code fragment deals with setting up the **snowballing process**. A\n",
    "breadth-first search, or BFS (sometimes known to computer programmers\n",
    "as a snowballing algorithm), must remember which **pages have been already\n",
    "processed** and which have been **discovered but not yet processed**.\n",
    "- the former are stored in the set **done_set**;\n",
    "- the latter, in the list **todo_lst** and **todo_set**.\n",
    "\n",
    "You need two data structures for the unprocessed pages because you want to\n",
    "know whether a page has been already recorded (an unordered lookup, *todo_set*) and\n",
    "which page is the next to be processed (an ordered lookup, *todo_lst*).\n",
    "\n",
    "\n",
    "Snowballing an extensive network—and Wikipedia with 6,578,766 articles in\n",
    "the English segment alone can produce a huge network!—takes considerable\n",
    "time.\n",
    "\n",
    "\n",
    "<img width=\"300\" src=\"https://drive.google.com/uc?export=view&id=1HS_M2Y55UD0PH_-8waDupAkgeDzSPBfG\">\n",
    "\n",
    "\n",
    "Suppose you start with one seed node, and let’s say it has $N\\approx 100$ neighbors.\n",
    "Each of them has $N$ neighbors, too, to the total of $\\approx N+N×N$ nodes. The\n",
    "third round of discovery adds $\\approx N×N×N$ more nodes. The time to shave each\n",
    "next layer of nodes grows exponentially. For this exercise, let’s process only\n",
    "the seed node itself and its immediate neighbors (layers 0 and 1). Processing\n",
    "layer 2 is still feasible, but layer 3 requires $N×N×N×N\\approx 10^8$ page downloads. To keep track of the distance from the currently processed node to the seed, store both the layer to which a node belongs and the node name together as a tuple on the **todo_lst** list."
   ]
  },
  {
   "cell_type": "code",
   "execution_count": 5,
   "metadata": {
    "id": "sy1gJQxwYdNi"
   },
   "outputs": [],
   "source": [
    "todo_lst = [(0, SEED)] # The SEED is in the layer 0\n",
    "todo_set = set(SEED) # The SEED itself\n",
    "done_set = set() # Nothing is done yet"
   ]
  },
  {
   "cell_type": "markdown",
   "metadata": {
    "id": "FlcRZ49jYjSr"
   },
   "source": [
    "**The output of the exercise is a NetworkX graph**. The next fragment will create\n",
    "an empty directed graph that will later absorb discovered nodes and edges.\n",
    "\n",
    "> We choose a **directed graph** because the edges that represent HTML links\n",
    "are naturally directed: a link from page A to page B does not imply a reciprocal\n",
    "link.\n",
    "\n",
    "The same fragment primes the algorithm by extracting the first “to-do” item\n",
    "(both its layer and page name) from the namesake list.\n",
    "\n"
   ]
  },
  {
   "cell_type": "code",
   "execution_count": 6,
   "metadata": {
    "id": "z04Y-it9g5OR"
   },
   "outputs": [],
   "source": [
    "g = nx.DiGraph()\n",
    "layer, page = todo_lst[0]"
   ]
  },
  {
   "cell_type": "markdown",
   "metadata": {
    "id": "cCe-Cq_4hGPH"
   },
   "source": [
    "It may take a fraction of a second to execute the first five lines of the script.\n",
    "It may take the whole next year or longer to finish the next twenty lines\n",
    "because they contain the main collection/construction loop of the project."
   ]
  },
  {
   "cell_type": "code",
   "execution_count": 7,
   "metadata": {
    "id": "ucGHcQ4-hP4V"
   },
   "outputs": [
    {
     "name": "stdout",
     "output_type": "stream",
     "text": [
      "0 Gödel'S Incompleteness Theorems\n",
      "1 A. K. Peters\n",
      "1 Ascii\n"
     ]
    },
    {
     "name": "stderr",
     "output_type": "stream",
     "text": [
      "/home/andremeneses/Documents/envs/data/lib/python3.10/site-packages/wikipedia/wikipedia.py:389: GuessedAtParserWarning: No parser was explicitly specified, so I'm using the best available HTML parser for this system (\"html.parser\"). This usually isn't a problem, but if you run this code on another system, or in a different virtual environment, it may use a different parser and behave differently.\n",
      "\n",
      "The code that caused this warning is on line 389 of the file /home/andremeneses/Documents/envs/data/lib/python3.10/site-packages/wikipedia/wikipedia.py. To get rid of this warning, pass the additional argument 'features=\"html.parser\"' to the BeautifulSoup constructor.\n",
      "\n",
      "  lis = BeautifulSoup(html).find_all('li')\n"
     ]
    },
    {
     "name": "stdout",
     "output_type": "stream",
     "text": [
      "Could not load Ascii\n",
      "1 Abstract Logic\n",
      "1 Ackermann Set Theory\n",
      "1 Alan Sokal\n",
      "1 Alan Turing\n",
      "Could not load Alan Turing\n",
      "1 Aleph Number\n",
      "1 Alfred Tarski\n",
      "1 Algebraically Closed Field\n",
      "1 Algorithm\n",
      "1 Algorithmic Information Theory\n",
      "1 Alonzo Church\n",
      "Could not load Alonzo Church\n",
      "1 Alphabet (Formal Languages)\n",
      "1 Anti-Realist\n",
      "1 Argument\n",
      "1 Arithmetical Hierarchy\n",
      "1 Arity\n",
      "Could not load Arity\n",
      "1 Atomic Formula\n",
      "1 Atomic Sentence\n",
      "1 Automata Theory\n",
      "1 Automated Theorem Proving\n",
      "1 Avi Wigderson\n",
      "1 Axiom\n",
      "1 Axiom Of Choice\n",
      "Could not load Axiom Of Choice\n",
      "1 Axiom Schema\n",
      "1 Axiom Schema Of Specification\n",
      "1 Axiomatic System\n",
      "1 Axiomatization Of Boolean Algebras\n",
      "1 Bbc\n",
      "Could not load Bbc\n",
      "1 Banach–Tarski Paradox\n",
      "1 Berry'S Paradox\n",
      "1 Bertrand Russell\n",
      "1 Bew\n",
      "1 Bew (Disambiguation)\n",
      "Could not load Bew (Disambiguation)\n",
      "1 Bijection\n",
      "Could not load Bijection\n",
      "1 Binary Operation\n",
      "1 Bob Hale (Philosopher)\n",
      "1 Bona Fide\n",
      "1 Boolean Algebra\n",
      "1 Boolean Algebras Canonically Defined\n",
      "1 Boolean Function\n",
      "1 Cantor'S Diagonal Argument\n",
      "1 Cantor'S Paradox\n",
      "1 Cantor'S Theorem\n",
      "1 Cardinality\n",
      "1 Cartesian Product\n",
      "1 Categorical Theory\n",
      "1 Category (Mathematics)\n",
      "1 Category Of Sets\n",
      "1 Category Theory\n",
      "1 Chaitin'S Incompleteness Theorem\n",
      "1 Character Encoding\n",
      "1 Characteristic (Algebra)\n",
      "1 Church Encoding\n",
      "1 Church–Turing Thesis\n",
      "1 Class (Set Theory)\n",
      "1 Classical Logic\n",
      "1 Codomain\n",
      "1 Compactness Theorem\n",
      "1 Complement (Set Theory)\n",
      "1 Complete Theory\n",
      "1 Completeness (Logic)\n",
      "1 Completeness Theorem\n",
      "1 Computability Theory\n",
      "1 Computable Function\n",
      "1 Computable Set\n",
      "1 Computably Enumerable\n",
      "1 Computably Enumerable Set\n",
      "1 Computational Complexity Theory\n",
      "1 Concrete Category\n",
      "1 Conservative Extension\n",
      "1 Consistency\n",
      "Could not load Consistency\n",
      "1 Constructible Universe\n",
      "1 Construction Of The Real Numbers\n",
      "1 Constructive Set Theory\n",
      "1 Continuum Hypothesis\n",
      "Could not load Continuum Hypothesis\n",
      "1 Contradiction\n",
      "Could not load Contradiction\n",
      "1 Coq\n",
      "1 Countable Set\n",
      "1 Crispin Wright\n",
      "Could not load Crispin Wright\n",
      "1 Dan Willard\n",
      "1 David Hilbert\n",
      "1 Decidability (Logic)\n",
      "1 Decision Problem\n",
      "1 Deductive System\n",
      "1 Dense Linear Order\n",
      "1 Diagonal Lemma\n",
      "1 Diagram (Mathematical Logic)\n",
      "1 Dialetheia\n",
      "1 Dialetheism\n",
      "1 Domain Of A Function\n",
      "1 Douglas Hofstadter\n",
      "1 Effective Method\n",
      "1 Effective Procedure\n",
      "1 Element (Mathematics)\n",
      "1 Elementary Diagram\n",
      "1 Elementary Equivalence\n",
      "1 Elementary Function Arithmetic\n",
      "1 Empty Set\n",
      "1 Encyclopedia Of Mathematics\n",
      "1 Entscheidungsproblem\n",
      "1 Enumeration\n",
      "1 Epsilon Calculus\n",
      "1 Equiconsistency\n",
      "1 Equivalence Relation\n",
      "Could not load Equivalence Relation\n",
      "1 Ernest Nagel\n",
      "1 Ernst Zermelo\n",
      "1 Essentially Undecidable\n",
      "1 Euclid'S Elements\n",
      "1 Euclidean Geometry\n",
      "1 European Mathematical Society\n",
      "1 Existential Quantification\n",
      "1 Expression (Mathematics)\n",
      "1 Extension By Definitions\n",
      "1 Extension By New Constant And Function Names\n",
      "1 Extensionality\n",
      "1 Fashionable Nonsense\n",
      "1 Finitary Relation\n",
      "1 Finite-Valued Logic\n",
      "1 Finite Model Theory\n",
      "1 Finite Set\n",
      "1 First-Order Logic\n",
      "1 Forcing (Mathematics)\n",
      "1 Formal Grammar\n",
      "1 Formal Language\n",
      "Could not load Formal Language\n",
      "1 Formal Proof\n",
      "1 Formal Semantics (Logic)\n",
      "1 Formal System\n",
      "1 Formation Rule\n",
      "1 Foundations Of Geometry\n",
      "1 Foundations Of Mathematics\n",
      "1 Free Logic\n",
      "1 Free Variables And Bound Variables\n",
      "1 Function (Mathematics)\n",
      "1 Functional Predicate\n",
      "1 Fuzzy Set\n",
      "1 General Set Theory\n",
      "1 Gentzen'S Consistency Proof\n",
      "1 Geoffrey Hellman\n",
      "1 George Boolos\n",
      "1 Gerhard Gentzen\n",
      "1 Goodstein'S Theorem\n",
      "1 Gottlob Frege\n",
      "1 Graham Priest\n",
      "1 Graph Minor Theorem\n",
      "1 Gregory Chaitin\n",
      "1 Grothendieck Universe\n",
      "1 Ground Expression\n",
      "1 Ground Formula\n",
      "1 Group Theory\n",
      "1 Grundlagen Der Mathematik\n",
      "1 Gödel\n",
      "1 Gödel'S Completeness Theorem\n",
      "1 Gödel'S Speed-Up Theorem\n",
      "1 Gödel, Escher, Bach\n",
      "1 Gödel Machine\n",
      "1 Gödel Number\n",
      "1 Gödel Numbering\n",
      "1 Hol Light\n",
      "1 Habilitation\n",
      "Could not load Habilitation\n",
      "1 Halting Problem\n",
      "1 Hao Wang (Academic)\n",
      "1 Hereditary Set\n",
      "1 Higher-Order Logic\n",
      "1 Hilary Putnam\n",
      "1 Hilbert'S 10Th Problem\n",
      "1 Hilbert'S Axioms\n",
      "1 Hilbert'S Program\n",
      "1 Hilbert'S Second Problem\n",
      "1 Hilbert System\n",
      "1 Hilbert–Bernays Provability Conditions\n",
      "1 History Of Logic\n",
      "1 History Of Mathematical Logic\n",
      "1 Issn (Identifier)\n",
      "1 I Am A Strange Loop\n",
      "1 Ideal Language Philosophy\n",
      "1 Ignoramus Et Ignorabimus\n",
      "1 Image (Mathematics)\n",
      "1 Impredicativity\n",
      "1 In Our Time (Radio Series)\n",
      "1 Inaccessible Cardinal\n",
      "1 Independence (Mathematical Logic)\n",
      "1 Inference\n",
      "1 Infinite-Valued Logic\n",
      "1 Infinite Set\n",
      "1 Information Theory\n",
      "1 Inhabited Set\n",
      "1 Injective Function\n",
      "1 Inner Model\n",
      "1 Intended Interpretation\n",
      "1 Interpretation (Logic)\n",
      "1 Interpretation (Model Theory)\n",
      "1 Interpretation Function\n",
      "1 Intersection (Set Theory)\n",
      "1 Introduction To Automata Theory, Languages, And Computation\n",
      "1 Isabelle Theorem Prover\n",
      "1 Isomorphism\n",
      "1 Israel Journal Of Mathematics\n",
      "1 Ivor Grattan-Guinness\n",
      "1 J.R. Lucas\n",
      "1 J. Barkley Rosser\n",
      "1 Jstor (Identifier)\n",
      "1 James R. Newman\n",
      "1 Jean Bricmont\n",
      "1 Jean Van Heijenoort\n",
      "1 Jeff Paris (Mathematician)\n",
      "1 Jeffrey Ullman\n",
      "1 Jeremy Stangroom\n",
      "1 John Barkley Rosser\n",
      "1 John Hopcroft\n",
      "1 John Lucas (Philosopher)\n",
      "1 John Von Neumann\n",
      "1 Jon Barwise\n",
      "1 Joseph R. Shoenfield\n",
      "1 Juliet Floyd\n",
      "1 Juliette Kennedy\n",
      "1 Karl Menger\n",
      "1 Kolmogorov Complexity\n",
      "1 Kripke'S Theory Of Truth\n",
      "1 Kripke–Platek Set Theory\n",
      "1 Kruskal'S Tree Theorem\n",
      "1 Kurt Gödel\n",
      "1 Königsberg\n",
      "1 Lambda Calculus\n",
      "1 Large Cardinal\n",
      "1 Lawrence Paulson\n",
      "1 Lemma (Mathematics)\n",
      "1 Leo Harrington\n",
      "1 Liar Paradox\n",
      "Could not load Liar Paradox\n",
      "1 Lindström'S Theorem\n",
      "1 Logic\n",
      "Could not load Logic\n",
      "1 Logica Universalis\n",
      "1 Logical Biconditional\n",
      "1 Logical Conjunction\n",
      "1 Logical Connective\n",
      "1 Logical Consequence\n",
      "1 Logical Constant\n",
      "1 Logical Disjunction\n",
      "1 Logical Equality\n",
      "1 Logical Equivalence\n",
      "1 Logical Truth\n",
      "1 Logically Valid\n",
      "1 Logicism\n",
      "1 Ludwig Wittgenstein\n",
      "1 Löb'S Theorem\n",
      "1 Löwenheim–Skolem Theorem\n",
      "1 Mrdp Theorem\n",
      "1 Mr (Identifier)\n",
      "1 Many-Valued Logic\n",
      "1 Map (Mathematics)\n",
      "1 Martin Davis (Mathematician)\n",
      "1 Material Conditional\n",
      "1 Mathematical Platonism\n",
      "1 Mathematical Logic\n",
      "1 Mathematical Object\n",
      "1 Mathematics\n",
      "1 Matiyasevich'S Theorem\n",
      "1 Maximal Set\n",
      "1 Mechanism (Philosophy)\n",
      "1 Metalanguage\n",
      "1 Metalogic\n",
      "1 Metamathematics\n",
      "1 Metatheorem\n",
      "1 Minds, Machines And Gödel\n",
      "1 Minimal Axioms For Boolean Algebra\n",
      "1 Model Complete Theory\n",
      "1 Model Theory\n",
      "1 Modus Ponens\n",
      "1 Monadic Predicate Calculus\n",
      "1 Monadic Second-Order Logic\n",
      "1 Monatshefte Für Mathematik Und Physik\n",
      "1 Morse–Kelley Set Theory\n",
      "1 Np (Complexity)\n",
      "1 Nachlass\n",
      "1 Naive Set Theory\n",
      "1 Natalie Wolchover\n",
      "1 Natarajan Shankar\n",
      "1 Natural Deduction\n",
      "1 Natural Language\n",
      "1 Natural Number\n",
      "1 Naïve Set Theory\n",
      "1 Negation\n",
      "Could not load Negation\n",
      "1 New Foundations\n",
      "1 Non-Euclidean Geometry\n",
      "1 Non-Logical Symbol\n",
      "1 Non-Standard Model\n",
      "1 Non-Standard Model Of Arithmetic\n",
      "1 Nqthm\n",
      "1 Oclc (Identifier)\n",
      "1 Omega-Consistent\n",
      "1 On Formally Undecidable Propositions In Principia Mathematica And Related Systems I\n",
      "1 On Formally Undecidable Propositions Of Principia Mathematica And Related Systems\n",
      "1 Open Formula\n",
      "1 Operation (Mathematics)\n",
      "1 Ophelia Benson\n",
      "1 Ordinal Analysis\n",
      "Could not load Ordinal Analysis\n",
      "1 Ordinal Number\n",
      "Could not load Ordinal Number\n",
      "1 P (Complexity)\n",
      "1 P Versus Np Problem\n",
      "1 Paraconsistent Logic\n",
      "1 Paradoxes Of Set Theory\n",
      "1 Parallel Postulate\n",
      "1 Paris–Harrington Theorem\n",
      "1 Partition Of A Set\n",
      "1 Paul Bernays\n",
      "1 Paul Cohen (Mathematician)\n",
      "1 Paul Finsler\n",
      "1 Peano Arithmetic\n",
      "1 Peano Axioms\n",
      "1 Per Lindström\n",
      "1 Philosophia Mathematica\n",
      "1 Philosophy Of Mathematics\n",
      "1 Power Set\n",
      "1 Predicate (Mathematical Logic)\n",
      "1 Predicate Logic\n",
      "1 Predicate Variable\n",
      "1 Presburger Arithmetic\n",
      "1 Primitive Recursive Arithmetic\n",
      "1 Primitive Recursive Function\n",
      "1 Principia Mathematica\n",
      "Could not load Principia Mathematica\n",
      "1 Principle Of Explosion\n",
      "1 Proof Assistant\n",
      "1 Proof By Contradiction\n",
      "1 Proof Of Impossibility\n",
      "1 Proof Sketch For Gödel'S First Incompleteness Theorem\n",
      "1 Proof Theory\n",
      "1 Proposition\n",
      "Could not load Proposition\n",
      "1 Propositional Calculus\n",
      "1 Propositional Formula\n",
      "1 Propositional Variable\n",
      "1 Provability Logic\n",
      "1 Quanta Magazine\n",
      "Could not load Quanta Magazine\n",
      "1 Quantifier (Logic)\n",
      "1 Quantifier Rank\n",
      "1 Quining\n",
      "1 R. B. Braithwaite\n",
      "1 Ramsey Theorem\n",
      "1 Raymond Smullyan\n",
      "Could not load Raymond Smullyan\n",
      "1 Real Closed Field\n",
      "1 Rebecca Goldstein\n",
      "1 Recursion\n",
      "Could not load Recursion\n",
      "1 Recursion Theory\n",
      "Could not load Recursion Theory\n",
      "1 Recursive Set\n",
      "1 Recursively Enumerable Set\n",
      "1 Recursively Inseparable Sets\n",
      "1 Relation (Mathematics)\n",
      "1 Remarks On The Foundations Of Mathematics\n",
      "1 Reverse Mathematics\n",
      "1 Richard'S Paradox\n"
     ]
    },
    {
     "name": "stdout",
     "output_type": "stream",
     "text": [
      "1 Richard Zach\n",
      "1 Robinson Arithmetic\n",
      "1 Roger Penrose\n",
      "Could not load Roger Penrose\n",
      "1 Rosser'S Trick\n",
      "1 Rudy Rucker\n",
      "1 Rule Of Inference\n",
      "1 Russell'S Paradox\n",
      "1 Régis Debray\n",
      "1 S2Cid (Identifier)\n",
      "1 Saharon Shelah\n",
      "1 Satisfiability\n",
      "Could not load Satisfiability\n",
      "1 Saturated Model\n",
      "1 Saul Kripke\n",
      "1 Schröder–Bernstein Theorem\n",
      "1 Second-Order Arithmetic\n",
      "1 Second-Order Logic\n",
      "1 Second Conference On The Epistemology Of The Exact Sciences\n",
      "1 Self-Verifying Theories\n",
      "1 Self Reference\n",
      "1 Semantic Theory Of Truth\n",
      "1 Semantics Of Logic\n",
      "1 Sentence (Mathematical Logic)\n",
      "1 Sequent Calculus\n",
      "Could not load Sequent Calculus\n",
      "1 Set (Mathematics)\n",
      "1 Set Theory\n",
      "1 Sidney Hook\n",
      "1 Signature (Logic)\n",
      "1 Singleton (Mathematics)\n",
      "1 Skolem Arithmetic\n",
      "1 Solomon Feferman\n",
      "1 Soundness\n",
      "1 Spectrum Of A Sentence\n",
      "1 Spectrum Of A Theory\n",
      "1 Square Of Opposition\n",
      "1 Stanford Encyclopedia Of Philosophy\n",
      "1 Stanley Jaki\n",
      "1 Stephen Cole Kleene\n",
      "1 Stephen Hawking\n",
      "1 Stewart Shapiro\n",
      "1 Strength (Mathematical Logic)\n",
      "1 String (Formal Languages)\n",
      "1 Structure (Mathematical Logic)\n",
      "1 Subset\n",
      "1 Substitution (Logic)\n",
      "1 Substructure (Mathematics)\n",
      "1 Supertask\n",
      "1 Surjective Function\n",
      "Could not load Surjective Function\n",
      "1 Syllogism\n",
      "1 Symbol (Formal)\n",
      "1 Symbolic Logic\n",
      "1 Syntax\n",
      "1 Syntax (Logic)\n",
      "1 Synthese\n",
      "Could not load Synthese\n",
      "1 T-Schema\n",
      "1 Tarski'S Axiomatization Of The Reals\n",
      "1 Tarski'S Axioms\n",
      "1 Tarski'S Indefinability Theorem\n",
      "1 Tarski'S Theory Of Truth\n",
      "1 Tarski'S Undefinability Theorem\n",
      "1 Tarski–Grothendieck Set Theory\n",
      "1 Tautology (Logic)\n",
      "1 Term (Logic)\n",
      "1 Term Logic\n",
      "1 The Encyclopedia Of Philosophy\n",
      "1 The Journal Of Philosophy\n",
      "1 Theorem\n",
      "1 Theories Of Truth\n",
      "1 Theory (Mathematical Logic)\n",
      "1 Theory Of Everything\n",
      "1 Three-Valued Logic\n",
      "1 Timeline Of Mathematical Logic\n",
      "1 Torkel Franzén\n",
      "1 Tractatus Logico-Philosophicus\n",
      "1 Transfer Principle\n",
      "1 Transitive Set\n",
      "1 True Arithmetic\n",
      "1 Truth Predicate\n",
      "1 Truth Table\n",
      "1 Truth Value\n",
      "1 Turing Machine\n",
      "Could not load Turing Machine\n",
      "1 Type (Model Theory)\n",
      "1 Type Theory\n",
      "1 Type–Token Distinction\n",
      "1 Typographical Number Theory\n",
      "1 Ultrafilter (Set Theory)\n",
      "1 Ultraproduct\n",
      "Could not load Ultraproduct\n",
      "1 Uncountable Set\n",
      "1 Undecidable Problem\n",
      "1 Undecidable Set\n",
      "1 Uninterpreted Function\n",
      "1 Union (Set Theory)\n",
      "1 Uniqueness Quantification\n",
      "1 Universal Quantification\n",
      "1 Universal Set\n",
      "1 Universe (Mathematics)\n",
      "1 Urelement\n",
      "Could not load Urelement\n",
      "1 Use–Mention Distinction\n",
      "1 Validity (Logic)\n",
      "1 Variable (Mathematics)\n",
      "1 Venn Diagram\n",
      "Could not load Venn Diagram\n",
      "1 Vienna Circle\n",
      "1 Von Neumann Universe\n",
      "1 Von Neumann–Bernays–Gödel Set Theory\n",
      "1 Wayback Machine\n",
      "1 Well-Formed Formula\n",
      "1 Wellfounded\n",
      "1 Whitehead Problem\n",
      "1 Wilhelm Ackermann\n",
      "1 Wolfgang Rautenberg\n",
      "1 Yuri Matiyasevich\n",
      "1 Zfc\n",
      "1 Zbl (Identifier)\n",
      "1 Zermelo–Fraenkel Set Theory\n",
      "1 Ω-Consistent Theory\n",
      "CPU times: user 2min 9s, sys: 2.45 s, total: 2min 11s\n",
      "Wall time: 27min 26s\n"
     ]
    }
   ],
   "source": [
    "%%time\n",
    "while layer < 2:\n",
    "  # Remove the name page of the current page from the todo_lst,\n",
    "  # and add it to the set of processed pages.\n",
    "  # If the script encounters this page again, it will skip over it.\n",
    "  del todo_lst[0]\n",
    "  done_set.add(page)\n",
    "\n",
    "  # Show progress\n",
    "  print(layer, page)\n",
    "\n",
    "  # Attempt to download the selected page.\n",
    "  try:\n",
    "    wiki = wikipedia.page(page)\n",
    "  except:\n",
    "    print(\"Could not load\", page)\n",
    "    layer, page = todo_lst[0]\n",
    "    continue\n",
    "\n",
    "  for link in wiki.links:\n",
    "    link = link.title()\n",
    "    if link not in STOPS and not link.startswith(\"List Of\"):\n",
    "      if link not in todo_set and link not in done_set:\n",
    "        todo_lst.append((layer + 1, link))\n",
    "        todo_set.add(link)\n",
    "      g.add_edge(page, link)\n",
    "  layer, page = todo_lst[0]"
   ]
  },
  {
   "cell_type": "code",
   "execution_count": 10,
   "metadata": {
    "id": "JrtewM_hPqJa"
   },
   "outputs": [
    {
     "name": "stdout",
     "output_type": "stream",
     "text": [
      "24143 nodes, 118855 edges\n"
     ]
    }
   ],
   "source": [
    "print(\"{} nodes, {} edges\".format(len(g), nx.number_of_edges(g)))"
   ]
  },
  {
   "cell_type": "markdown",
   "metadata": {
    "id": "LMX9A1-Nh-8B"
   },
   "source": [
    "The network of interest is now in the variable g. But it is “dirty”: inaccurate, incomplete, and erroneous."
   ]
  },
  {
   "cell_type": "markdown",
   "metadata": {
    "id": "qS911QoZMzb7"
   },
   "source": [
    "## 1.3 Eliminate Duplicates"
   ]
  },
  {
   "cell_type": "markdown",
   "metadata": {
    "id": "UJ_c2SOHNa7O"
   },
   "source": [
    "Many Wikipedia pages exist under two or more names. For example, there\n",
    "are pages about **Complex Network** and **Complex Networks**. The latter redirects\n",
    "to the former, but NetworkX does not know about the redirection.\n",
    "\n",
    "Accurately merging all duplicate nodes involves **natural language processing\n",
    "(NLP) tools that are outside of the scope of this course**. It may suffice to join\n",
    "only those nodes that differ by the presence/absence of the letter s at the end\n",
    "or a hyphen in the middle.\n",
    "\n",
    "Start removing self-loops (pages referring to themselves). The loops don’t change\n",
    "the network properties but affect the correctness of duplicate node elimination.\n",
    "Now, you need a list of at least some duplicate nodes. You can build it by\n",
    "looking at each node in g and checking if a node with the same name, but\n",
    "with an s at the end, is also in g.\n",
    "\n",
    "Pass each pair of duplicated node names to the function **nx.contracted_nodes(g,u,v)** that merges node v into node u in the graph g. The function reassigns all edges previously incident to v, to u. If you don’t pass the option **self_loops=False**, the function converts an edge from v to u (if any) to a self-loop."
   ]
  },
  {
   "cell_type": "code",
   "execution_count": 8,
   "metadata": {
    "id": "8VkbRjFcBQaX"
   },
   "outputs": [],
   "source": [
    "# make a copy of raw graph\n",
    "original = g.copy()"
   ]
  },
  {
   "cell_type": "code",
   "execution_count": 9,
   "metadata": {
    "id": "UFrNIuluN1__"
   },
   "outputs": [
    {
     "name": "stdout",
     "output_type": "stream",
     "text": [
      "[('Algorithm', 'Algorithms'), ('Argument', 'Arguments'), ('Axiom', 'Axioms'), ('Decision Problem', 'Decision Problems'), ('Finite Set', 'Finite Sets'), ('Formal Grammar', 'Formal Grammars'), ('Formal Language', 'Formal Languages'), ('Formal System', 'Formal Systems'), ('Formation Rule', 'Formation Rules'), ('Large Cardinal', 'Large Cardinals'), ('Logical Constant', 'Logical Constants'), ('Natural Language', 'Natural Languages'), ('Natural Number', 'Natural Numbers'), ('Non-Logical Symbol', 'Non-Logical Symbols'), ('Ordinal Number', 'Ordinal Numbers'), ('Primitive Recursive Function', 'Primitive Recursive Functions'), ('Proposition', 'Propositions'), ('Real Closed Field', 'Real Closed Fields'), ('Subset', 'Subsets'), ('Syllogism', 'Syllogisms'), ('Truth Table', 'Truth Tables'), ('Truth Value', 'Truth Values'), ('Turing Machine', 'Turing Machines'), ('Ultraproduct', 'Ultraproducts'), ('Urelement', 'Urelements'), ('Well-Formed Formula', 'Well-Formed Formulas'), ('Free Variable', 'Free Variables'), ('Social Science', 'Social Sciences'), ('Algebraic Number', 'Algebraic Numbers'), ('Cardinal Number', 'Cardinal Numbers'), ('Constructible Number', 'Constructible Numbers'), ('Integer', 'Integers'), ('Limit Ordinal', 'Limit Ordinals'), ('Rational Number', 'Rational Numbers'), ('Real Number', 'Real Numbers'), ('Sequence', 'Sequences'), ('Vector Space', 'Vector Spaces'), ('Abelian Group', 'Abelian Groups'), (\"Gödel'S Incompleteness Theorem\", \"Gödel'S Incompleteness Theorems\"), ('Honorary Degree', 'Honorary Degrees'), ('Mathematician', 'Mathematicians'), ('Nazi', 'Nazis'), ('Complex Number', 'Complex Numbers'), ('Algorithm Characterization', 'Algorithm Characterizations'), ('Calculation', 'Calculations'), ('Computer Program', 'Computer Programs'), ('Differential Equation', 'Differential Equations'), ('Dynamical System', 'Dynamical Systems'), (\"Euclid'S Element\", \"Euclid'S Elements\"), ('Heuristic', 'Heuristics'), ('Karnaugh Map', 'Karnaugh Maps'), ('Mathematical Proof', 'Mathematical Proofs'), ('Partial Function', 'Partial Functions'), ('Programming Language', 'Programming Languages'), ('Quantum Algorithm', 'Quantum Algorithms'), ('Randomnes', 'Randomness'), ('Roman Numeral', 'Roman Numerals'), ('Data Structure', 'Data Structures'), ('Statistic', 'Statistics'), ('Regular Expression', 'Regular Expressions'), ('Dialectic', 'Dialectics'), ('Inductive Argument', 'Inductive Arguments'), ('Bounded Quantifier', 'Bounded Quantifiers'), ('Definable Set', 'Definable Sets'), ('Turing Degree', 'Turing Degrees'), ('Database', 'Databases'), ('Information System', 'Information Systems'), ('Monoid', 'Monoids'), ('Regular Language', 'Regular Languages'), ('Atom', 'Atoms'), ('Elementary Particle', 'Elementary Particles'), ('Josephson Junction', 'Josephson Junctions'), ('Molecule', 'Molecules'), ('Quark', 'Quarks'), ('Subatomic Particle', 'Subatomic Particles'), ('Hereditarily Finite Set', 'Hereditarily Finite Sets'), ('Ordered Pair', 'Ordered Pairs'), ('Algebraic Structure', 'Algebraic Structures'), ('Complete Lattice', 'Complete Lattices'), (\"De Morgan'S Law\", \"De Morgan'S Laws\"), ('Logic Gate', 'Logic Gates'), ('Partially Ordered Set', 'Partially Ordered Sets'), ('Euclidean Space', 'Euclidean Spaces'), ('Atomic Proposition', 'Atomic Propositions'), ('Bullshit Job', 'Bullshit Jobs'), ('Counterfactual Conditional', 'Counterfactual Conditionals'), ('Possible World', 'Possible Worlds'), ('Presupposition', 'Presuppositions'), ('Speech Act', 'Speech Acts'), ('Type System', 'Type Systems'), ('Bmw K1200R', 'Bmw K1200Rs'), ('Bmw R1100R', 'Bmw R1100Rs'), ('Bmw R1150R', 'Bmw R1150Rs'), ('Bmw R1200R', 'Bmw R1200Rs'), ('Bmw R1250R', 'Bmw R1250Rs'), ('Binary Function', 'Binary Functions'), ('Bitwise Operation', 'Bitwise Operations'), ('Binary Digit', 'Binary Digits'), ('Cauchy Sequence', 'Cauchy Sequences'), ('Dedekind Cut', 'Dedekind Cuts'), ('Irrational Number', 'Irrational Numbers'), ('Linear Function', 'Linear Functions'), ('Even Number', 'Even Numbers'), ('Line Segment', 'Line Segments'), ('Prime Number', 'Prime Numbers'), ('Group Homomorphism', 'Group Homomorphisms'), ('Continuous Function', 'Continuous Functions'), ('Logical Operator', 'Logical Operators'), ('Polynomial', 'Polynomials'), ('Reference', 'References'), ('Diophantine Equation', 'Diophantine Equations'), ('Formal Method', 'Formal Methods'), ('Compiler', 'Compilers'), ('Indiscernible', 'Indiscernibles'), ('Infinitesimal', 'Infinitesimals'), ('Adjoint Functor', 'Adjoint Functors'), ('Apartness Relation', 'Apartness Relations'), ('Characteristic Function', 'Characteristic Functions'), ('Description Logic', 'Description Logics'), ('Intermediate Logic', 'Intermediate Logics'), ('Von Neumann Ordinal', 'Von Neumann Ordinals'), ('Camel', 'Camels'), ('Cow', 'Cows'), ('Feedlot', 'Feedlots'), ('P-Adic Number', 'P-Adic Numbers'), ('Transcendental Number', 'Transcendental Numbers'), ('Calvinist', 'Calvinists'), ('Integral Equation', 'Integral Equations'), ('Decimal Fraction', 'Decimal Fractions'), ('Fractal', 'Fractals'), ('Positive Integer', 'Positive Integers'), ('Sophist', 'Sophists'), ('Platonic Solid', 'Platonic Solids'), ('Right Angle', 'Right Angles'), ('Dimension', 'Dimensions'), ('Postulate', 'Postulates'), ('Bound Variable', 'Bound Variables'), ('Mathematical Formula', 'Mathematical Formulas'), ('Extension By Definition', 'Extension By Definitions'), ('Neuron', 'Neurons'), ('Ehrenfeucht–Fraïssé Game', 'Ehrenfeucht–Fraïssé Games'), ('Infinitary Logic', 'Infinitary Logics'), ('Transformation Rule', 'Transformation Rules'), ('Formal Logical System', 'Formal Logical Systems'), ('Exponential Function', 'Exponential Functions'), ('Manifold', 'Manifolds'), ('Function Space', 'Function Spaces'), ('Parameter', 'Parameters'), ('Planet', 'Planets'), ('Special Function', 'Special Functions'), ('Topological Vector Space', 'Topological Vector Spaces'), ('Necessary And Sufficient Condition', 'Necessary And Sufficient Conditions'), ('Relay', 'Relays'), ('Algebraic Equation', 'Algebraic Equations'), ('Einstein Field Equation', 'Einstein Field Equations'), ('Gravitational Wave', 'Gravitational Waves'), ('T-Norm Fuzzy Logic', 'T-Norm Fuzzy Logics'), ('Wang Tile', 'Wang Tiles'), ('Propositional Attitude', 'Propositional Attitudes'), ('Rolf Schock Prize', 'Rolf Schock Prizes'), ('Incompleteness Theorem', 'Incompleteness Theorems'), ('Inference Rule', 'Inference Rules'), ('Truth Condition', 'Truth Conditions'), ('Word', 'Words'), ('Pixel', 'Pixels'), ('Relation Symbol', 'Relation Symbols'), ('Bsd License', 'Bsd Licenses'), ('Isomorphism Theorem', 'Isomorphism Theorems'), ('Kinematic', 'Kinematics'), ('Shaped Charge', 'Shaped Charges'), ('Star', 'Stars'), ('Semantic', 'Semantics'), ('Catholic', 'Catholics'), ('Jew', 'Jews'), ('Old Prussian', 'Old Prussians'), ('Sambian', 'Sambians'), ('Church Numeral', 'Church Numerals'), ('Functional Programming Language', 'Functional Programming Languages'), ('Atomic Fact', 'Atomic Facts'), ('Elementary Proposition', 'Elementary Propositions'), ('Square Number', 'Square Numbers'), ('Aesthetic', 'Aesthetics'), ('Conic Section', 'Conic Sections'), ('Natural Science', 'Natural Sciences'), ('Noun Phrase', 'Noun Phrases'), ('Pythagorean Triple', 'Pythagorean Triples'), ('Bell Number', 'Bell Numbers'), ('Cartesian Coordinate', 'Cartesian Coordinates'), ('Operand', 'Operands'), ('Trigonometric Function', 'Trigonometric Functions'), ('Binomial Coefficient', 'Binomial Coefficients'), ('Metamathematic', 'Metamathematics'), ('Semialgebraic Set', 'Semialgebraic Sets'), ('Disjoint Set', 'Disjoint Sets'), ('Function Symbol', 'Function Symbols'), ('Grammatical Relation', 'Grammatical Relations'), ('Causal Fermion System', 'Causal Fermion Systems'), ('Complex System', 'Complex Systems'), ('Creation Myth', 'Creation Myths'), ('Emotion', 'Emotions'), ('Game', 'Games'), ('Virtue', 'Virtues'), ('Platonic Form', 'Platonic Forms'), ('Mathematical Symbol', 'Mathematical Symbols')]\n",
      "[('First-Order Logic', 'First Order Logic'), ('Higher-Order Logic', 'Higher Order Logic'), ('Second-Order Arithmetic', 'Second Order Arithmetic'), ('Second-Order Logic', 'Second Order Logic'), ('Tractatus Logico-Philosophicus', 'Tractatus Logico Philosophicus'), ('Well-Formed Formula', 'Well Formed Formula'), ('Sigma-Algebra', 'Sigma Algebra'), ('Springer-Verlag', 'Springer Verlag'), ('Truth-Function', 'Truth Function'), ('Brute-Force Search', 'Brute Force Search'), ('Finite-State Machine', 'Finite State Machine'), ('Turing-Complete', 'Turing Complete'), ('Context-Free Language', 'Context Free Language'), ('Context-Sensitive Language', 'Context Sensitive Language'), ('Set-Builder Notation', 'Set Builder Notation'), ('Field-Programmable Gate Array', 'Field Programmable Gate Array'), ('Np-Complete', 'Np Complete'), ('Very-Large-Scale Integration', 'Very Large Scale Integration'), ('One-To-One Correspondence', 'One To One Correspondence'), ('North-Holland', 'North Holland'), ('Random-Access Machine', 'Random Access Machine'), ('Dedekind-Complete', 'Dedekind Complete'), ('Dedekind-Infinite', 'Dedekind Infinite'), ('Epsilon-Induction', 'Epsilon Induction'), ('Well-Ordering', 'Well Ordering'), ('Self-Reference', 'Self Reference'), ('Computer-Aided Design', 'Computer Aided Design'), ('Natural-Language Processing', 'Natural Language Processing'), ('Cut-Elimination Theorem', 'Cut Elimination Theorem'), ('Public-Key Cryptography', 'Public Key Cryptography'), ('Proof-Theoretic Ordinal', 'Proof Theoretic Ordinal'), ('Real-Closed Field', 'Real Closed Field'), ('Decision-Making', 'Decision Making'), ('Error-Correcting Code', 'Error Correcting Code'), ('Information-Theoretic Security', 'Information Theoretic Security'), ('Symmetric-Key Algorithm', 'Symmetric Key Algorithm'), ('Augustin-Louis Cauchy', 'Augustin Louis Cauchy'), ('Brouwer Fixed-Point Theorem', 'Brouwer Fixed Point Theorem'), ('Joseph-Louis Lagrange', 'Joseph Louis Lagrange'), ('Big-O Notation', 'Big O Notation'), ('Mu-Operator', 'Mu Operator'), ('Truth-Table', 'Truth Table'), ('Science-Fiction Fandom', 'Science Fiction Fandom'), ('Aleph-Nought', 'Aleph Nought'), ('First-Class Honours', 'First Class Honours'), ('State-Transition Table', 'State Transition Table'), ('Truth-Value', 'Truth Value'), ('Order-Isomorphic', 'Order Isomorphic')]\n"
     ]
    }
   ],
   "source": [
    "# remove self loops\n",
    "g.remove_edges_from(nx.selfloop_edges(g))\n",
    "\n",
    "# identify duplicates like that: 'network' and 'networks'\n",
    "duplicates = [(node, node + \"s\")\n",
    "              for node in g if node + \"s\" in g\n",
    "             ]\n",
    "\n",
    "for dup in duplicates:\n",
    "  # *dup is a technique named 'unpacking'\n",
    "  g = nx.contracted_nodes(g, *dup, self_loops=False)\n",
    "\n",
    "print(duplicates)\n",
    "\n",
    "duplicates = [(x, y) for x, y in\n",
    "              [(node, node.replace(\"-\", \" \")) for node in g]\n",
    "                if x != y and y in g]\n",
    "print(duplicates)\n",
    "\n",
    "for dup in duplicates:\n",
    "  g = nx.contracted_nodes(g, *dup, self_loops=False)\n",
    "\n",
    "# nx.contracted creates a new node/edge attribute called contraction\n",
    "# the value of the attribute is a dictionary, but GraphML\n",
    "# does not support dictionary attributes\n",
    "nx.set_node_attributes(g, 0,\"contraction\")\n",
    "nx.set_edge_attributes(g, 0,\"contraction\")"
   ]
  },
  {
   "cell_type": "code",
   "execution_count": 11,
   "metadata": {
    "id": "Bqe2ruDmPcNH"
   },
   "outputs": [
    {
     "name": "stdout",
     "output_type": "stream",
     "text": [
      "24143 nodes, 118855 edges\n"
     ]
    }
   ],
   "source": [
    "print(\"{} nodes, {} edges\".format(len(g), nx.number_of_edges(g)))"
   ]
  },
  {
   "cell_type": "markdown",
   "metadata": {
    "id": "TulPj3ZQQAS8"
   },
   "source": [
    "## 1.4 Truncate the network"
   ]
  },
  {
   "cell_type": "markdown",
   "metadata": {
    "id": "cGjVZK35URcH"
   },
   "source": [
    "Why did you go through all those Wikipedia troubles? First, to construct a\n",
    "network of subjects related to complex networks—and here it is. Second, to\n",
    "find other significant topics related to complex networks. **But what is the\n",
    "measure of significance?**\n",
    "\n",
    "\n",
    "You will discover a variety of network measures latter in this course. For now, let’s concentrate on a **node indegree**—the number of edges directed into the node. (In the same spirit, the number of edges directed out of the node is called **outdegree**.) The indegree of a node equals the number of HTML links pointing to the respective page. **If a page has a lot of links to it, the topic of the page must be significant.**\n",
    "\n",
    "\n",
    "The extracted graph\n",
    "has 13,526 nodes and 24,724 edges—an average of 1.82 edges per node. **Most\n",
    "of the nodes have only one connection**. (Interestingly, there are no isolated\n",
    "nodes with no connection in the graph. Even if they exist, you will not find\n",
    "them because of the way snowballing works.) **You can remove all nodes with\n",
    "only one incident edge to make the network more compact and less hairy\n",
    "without hurting the final results**."
   ]
  },
  {
   "cell_type": "code",
   "execution_count": 12,
   "metadata": {
    "id": "AaHxaOwMLW9B"
   },
   "outputs": [
    {
     "data": {
      "image/png": "[encoded data removed]",
      "text/plain": [
       "<Figure size 800x400 with 2 Axes>"
      ]
     },
     "metadata": {},
     "output_type": "display_data"
    }
   ],
   "source": [
    "plt.style.use(\"default\")\n",
    "# degree sequence\n",
    "degree_sequence = sorted([d for n, d in g.degree()], reverse=True)\n",
    "\n",
    "fig, ax = plt.subplots(1,2,figsize=(8,4))\n",
    "\n",
    "# all_data has information about degree_sequence and the width of each bin\n",
    "ax[0].hist(degree_sequence)\n",
    "ax[1].hist(degree_sequence,bins=[1,2,3,4,5,6,7,8,9,10])\n",
    "\n",
    "ax[0].set_title(\"Degree Histogram\")\n",
    "ax[0].set_ylabel(\"Count\")\n",
    "ax[0].set_xlabel(\"Degree\")\n",
    "ax[0].set_ylim(0,15000)\n",
    "\n",
    "ax[1].set_title(\"Degree Histogram - Zoom\")\n",
    "ax[1].set_ylabel(\"Count\")\n",
    "ax[1].set_xlabel(\"Degree\")\n",
    "ax[1].set_xlim(0,10)\n",
    "ax[1].set_ylim(0,15000)\n",
    "\n",
    "plt.tight_layout()\n",
    "plt.show()"
   ]
  },
  {
   "cell_type": "code",
   "execution_count": 13,
   "metadata": {
    "id": "Br8-5IGIUbVT"
   },
   "outputs": [
    {
     "name": "stdout",
     "output_type": "stream",
     "text": [
      "8244 nodes, 102956 edges\n"
     ]
    }
   ],
   "source": [
    "# filter nodes with degree greater than or equal to 2\n",
    "core = [node for node, deg in dict(g.degree()).items() if deg >= 2]\n",
    "\n",
    "# select a subgraph with 'core' nodes\n",
    "gsub = nx.subgraph(g, core)\n",
    "\n",
    "print(\"{} nodes, {} edges\".format(len(gsub), nx.number_of_edges(gsub)))\n",
    "\n",
    "nx.write_graphml(gsub, \"cna.graphml\")"
   ]
  },
  {
   "cell_type": "code",
   "execution_count": 14,
   "metadata": {
    "id": "GD2AghG1eXMB"
   },
   "outputs": [
    {
     "name": "stdout",
     "output_type": "stream",
     "text": [
      "Nodes removed: 75.63%\n",
      "Edges removed: 41.38%\n",
      "Edges per nodes: 4.10\n"
     ]
    }
   ],
   "source": [
    "print(\"Nodes removed: {:.2f}%\".format(100*(1 - 3296/13526)))\n",
    "print(\"Edges removed: {:.2f}%\".format(100*(1 - 14494/24724)))\n",
    "print(\"Edges per nodes: {:.2f}\".format(13526/3296))"
   ]
  },
  {
   "cell_type": "markdown",
   "metadata": {
    "id": "YSELbSFCX__7"
   },
   "source": [
    "As you can see, the following code fragment safely removes 75 percent of the\n",
    "nodes and 41 percent of the edges, raising the average number of edges per\n",
    "node to 4.10."
   ]
  },
  {
   "cell_type": "markdown",
   "metadata": {
    "id": "5zRjfGLtZ2qB"
   },
   "source": [
    "## 1.5 Explore the network"
   ]
  },
  {
   "cell_type": "markdown",
   "metadata": {
    "id": "RUMyWlK7jqkX"
   },
   "source": [
    "The following figure is a [Gephi](https://gephi.org/) rendering of **gsub**. Node\n",
    "and label font sizes represent the indegrees (a filter was added in gephi just to show only node with indegree greater than 50). The most in-connected, most significant\n",
    "nodes are in the upper-left corner of the network. What are they?\n",
    "\n",
    "<img width=\"600\" src=\"https://drive.google.com/uc?export=view&id=1voCZAh8-8YPKuekNHbc_h45MLgM6Rfg6\">\n",
    "\n",
    "\n",
    "The last code fragment of the exercise efficiently calculates the answer by\n",
    "calling the method **gsub.in_degree()**. The method (and its sister method **gsub.out_degree()**)\n",
    "are very similar to **gsub.degree()** except that they report different edge counts in the form of objects InDegreeView and OutDegreeView, respectively."
   ]
  },
  {
   "cell_type": "code",
   "execution_count": 15,
   "metadata": {
    "id": "gwlRxZ2kmDL-"
   },
   "outputs": [
    {
     "name": "stdout",
     "output_type": "stream",
     "text": [
      "290 Mathematical Logic\n",
      "282 Gödel'S Incompleteness Theorem\n",
      "270 Set Theory\n",
      "268 Logic\n",
      "263 Set (Mathematics)\n",
      "261 Axiom\n",
      "259 Foundations Of Mathematics\n",
      "256 Philosophy Of Mathematics\n",
      "251 First-Order Logic\n",
      "248 Zermelo–Fraenkel Set Theory\n",
      "247 Russell'S Paradox\n",
      "246 Principia Mathematica\n",
      "244 Turing Machine\n",
      "243 Empty Set\n",
      "242 Axiom Of Choice\n",
      "242 Model Theory\n",
      "242 Proposition\n",
      "242 Ordinal Number\n",
      "241 Consistency\n",
      "241 Type Theory\n",
      "241 Continuum Hypothesis\n",
      "241 Peano Axioms\n",
      "240 Formal Language\n",
      "240 Classical Logic\n",
      "239 Computability Theory\n",
      "239 Category Theory\n",
      "239 Bijection\n",
      "239 Cantor'S Theorem\n",
      "238 Decidability (Logic)\n",
      "238 Intersection (Set Theory)\n",
      "238 Union (Set Theory)\n",
      "238 Class (Set Theory)\n",
      "237 Theorem\n",
      "237 Formal System\n",
      "237 Function (Mathematics)\n",
      "237 Propositional Calculus\n",
      "237 Complement (Set Theory)\n",
      "237 Cardinality\n",
      "237 Proof Theory\n",
      "237 Independence (Mathematical Logic)\n",
      "236 Power Set\n",
      "236 Countable Set\n",
      "236 Forcing (Mathematics)\n",
      "235 Infinite Set\n",
      "235 Gödel'S Completeness Theorem\n",
      "235 Fuzzy Set\n",
      "235 Axiom Schema\n",
      "235 Constructible Universe\n",
      "234 Cartesian Product\n",
      "234 Venn Diagram\n",
      "234 Negation\n",
      "234 Naive Set Theory\n",
      "234 Isomorphism\n",
      "234 Element (Mathematics)\n",
      "234 Singleton (Mathematics)\n",
      "234 Church–Turing Thesis\n",
      "234 Second-Order Arithmetic\n",
      "234 Cantor'S Diagonal Argument\n",
      "234 Von Neumann–Bernays–Gödel Set Theory\n",
      "234 Computable Function\n",
      "234 Finite Set\n",
      "233 Kripke–Platek Set Theory\n",
      "233 Truth-Value\n",
      "233 Computable Set\n",
      "233 Tarski–Grothendieck Set Theory\n",
      "233 General Set Theory\n",
      "233 Euclidean Geometry\n",
      "233 Satisfiability\n",
      "233 Paradoxes Of Set Theory\n",
      "232 Non-Euclidean Geometry\n",
      "232 Recursion\n",
      "232 Equivalence Relation\n",
      "232 New Foundations\n",
      "232 Axiomatic System\n",
      "232 Large Cardinal\n",
      "232 Logical Consequence\n",
      "232 Uncountable Set\n",
      "231 Transitive Set\n",
      "231 Quantifier (Logic)\n",
      "231 Morse–Kelley Set Theory\n",
      "231 Truth-Table\n",
      "231 Information Theory\n",
      "231 Universal Set\n",
      "231 History Of Logic\n",
      "231 Metalanguage\n",
      "231 Logicism\n",
      "231 Soundness\n",
      "231 Löwenheim–Skolem Theorem\n",
      "231 Tautology (Logic)\n",
      "230 Theory (Mathematical Logic)\n",
      "230 Foundations Of Geometry\n",
      "230 Interpretation (Logic)\n",
      "230 Euclid'S Element\n",
      "230 Second-Order Logic\n",
      "230 Category (Mathematics)\n",
      "230 Well-Formed Formula\n",
      "230 Lambda Calculus\n",
      "229 Decision Problem\n",
      "229 Binary Operation\n",
      "229 Logical Truth\n"
     ]
    }
   ],
   "source": [
    "top_indegree = sorted(dict(gsub.in_degree()).items(),\n",
    "                      reverse=True, key=itemgetter(1))[:100]\n",
    "print(\"\\n\".join(map(lambda t: \"{} {}\".format(*reversed(t)), top_indegree)))"
   ]
  },
  {
   "cell_type": "markdown",
   "metadata": {
    "id": "6PQT-sl0mulb"
   },
   "source": [
    "**Exercise**\n",
    "\n",
    "\n",
    "- This section presented a complete complex network construction case study,\n",
    "starting from the raw data in the form of HTML pages, all the way to an analyzable\n",
    "annotated network graph and a simple exploratory exercise. This is\n",
    "a good foundation for more systematic complex network studies. Now is your turn, choice a topic of your interest and reproduce yourself a complet complex network case study.\n",
    "\n",
    "- Some examples (not limited to):\n",
    "\n",
    "  - https://en.wikipedia.org/wiki/Black_Lives_Matter\n",
    "  - https://en.wikipedia.org/wiki/COVID-19\n",
    "  - https://en.wikipedia.org/wiki/Harry_Potter\n",
    "  - https://en.wikipedia.org/wiki/Sherlock_Holmes\n",
    "  - https://en.wikipedia.org/wiki/Augusto_Severo_de_Albuquerque_Maranh%C3%A3o\n",
    "  - https://en.wikipedia.org/wiki/Brazil\n",
    "  - https://en.wikipedia.org/wiki/Bitcoin\n",
    "  - https://en.wikipedia.org/wiki/Federal_University_of_Rio_Grande_do_Norte\n",
    "  - https://en.wikipedia.org/wiki/Petrobras\n",
    "  - https://en.wikipedia.org/wiki/List_of_presidents_of_Brazil\n",
    "- Explore some metrics studied in Unit 02 to highlight insights in your analysis."
   ]
  },
  {
   "cell_type": "code",
   "execution_count": null,
   "metadata": {
    "id": "MzoPkyYOnrud"
   },
   "outputs": [],
   "source": [
    "# put your results here"
   ]
  }
 ],
 "metadata": {
  "colab": {
   "provenance": []
  },
  "kernelspec": {
   "display_name": "Python 3 (ipykernel)",
   "language": "python",
   "name": "python3"
  },
  "language_info": {
   "codemirror_mode": {
    "name": "ipython",
    "version": 3
   },
   "file_extension": ".py",
   "mimetype": "text/x-python",
   "name": "python",
   "nbconvert_exporter": "python",
   "pygments_lexer": "ipython3",
   "version": "3.10.6"
  }
 },
 "nbformat": 4,
 "nbformat_minor": 1
}
